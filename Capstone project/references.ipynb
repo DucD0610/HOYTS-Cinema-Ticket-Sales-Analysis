{
 "cells": [
  {
   "cell_type": "markdown",
   "metadata": {},
   "source": [
    "### Books\n",
    "- Thinking with Data \"How to turn information into insights\" by Max Shron"
   ]
  }
 ],
 "metadata": {
  "language_info": {
   "name": "python"
  }
 },
 "nbformat": 4,
 "nbformat_minor": 2
}
