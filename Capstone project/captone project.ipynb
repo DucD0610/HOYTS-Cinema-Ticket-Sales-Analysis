{
 "cells": [
  {
   "cell_type": "markdown",
   "metadata": {},
   "source": []
  },
  {
   "cell_type": "markdown",
   "metadata": {},
   "source": [
    "# Data Analysis Case Study - Apply Problem Solving Strategy\n",
    "\n",
    "**Problem**\n",
    "Assume you are in the role of an Analyst in the product development of the company. To help increase the volume of orders and customers purchasing movie tickets online, you need to analyze data of customers' booking history over the past years. From there, provide informative insights about customer behavior and corresponding recommendations."
   ]
  },
  {
   "cell_type": "markdown",
   "metadata": {},
   "source": [
    "## I. Define The Problem \n",
    "### Objectives\n",
    "- This is a capstone project I completed for self-learning Python for Data Analysis, utilizing industry-standard libraries: Pandas and Matplotlib.\n",
    "- The first step before diving into detail/data exploration is understand the problem throughly. To do that, I will use 5W1H techniques.\n",
    "1. Why?\n",
    "- The objective of this task is to analyze user behavior in purchasing movie tickets over the past four years using data.\n",
    "- By gaining this understanding, we can develop insights and implement effective strategies to increase sales and the number of buyers in the coming years.\n"
   ]
  }
 ],
 "metadata": {
  "language_info": {
   "name": "python"
  }
 },
 "nbformat": 4,
 "nbformat_minor": 2
}
