{
 "cells": [
  {
   "cell_type": "markdown",
   "metadata": {},
   "source": []
  },
  {
   "cell_type": "markdown",
   "metadata": {},
   "source": [
    "# Data Analysis Case Study - Apply Problem Solving Strategy\n",
    "\n",
    "**Problem**\n",
    "Assume you are in the role of an Analyst in the product development of the company. To help increase the volume of orders and customers purchasing movie tickets online, you need to analyze data of customers' booking history over the past years. From there, provide informative insights about customer behavior and corresponding recommendations."
   ]
  },
  {
   "cell_type": "markdown",
   "metadata": {},
   "source": [
    "This is a capstone project I completed for self-learning Python for Data Analysis, utilizing industry-standard libraries: Pandas and Matplotlib.\n",
    "There are many frameworks for data analysis. Framework provides a structured and systemetic approach for managing and analyzing data task/project to ensure consistency, efficiency, and high quality. The framework I used is: \n",
    "\n",
    "Problem Definition => Data Collection => Data Transformation => Data Exploration => Sharing Insights\n",
    "\n",
    "## I. Define The Problem \n",
    "### Why?\n",
    "- The objective of this task is to analyze user behavior in purchasing movie tickets over the past four years using data.\n",
    "- By gaining this understanding, we can develop insights and implement effective strategies to increase sales and the number of buyers in the coming years.\n",
    "\n",
    "### Who?\n",
    "- Internal: Departments and/or staffs involves in ticket purchasing process\n",
    "\n",
    "- External: Who is our customers?\n",
    "+ Location: which city/province/area\n",
    "+ Profile: new customer, old customer, activated customer,..\n",
    "+ Demographic: gender (male/femail), education, marriage or not,..\n",
    "\n",
    "### What?\n",
    "\n",
    "### Which"
   ]
  }
 ],
 "metadata": {
  "language_info": {
   "name": "python"
  }
 },
 "nbformat": 4,
 "nbformat_minor": 2
}
