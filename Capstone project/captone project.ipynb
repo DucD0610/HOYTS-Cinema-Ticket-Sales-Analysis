{
 "cells": [
  {
   "cell_type": "markdown",
   "metadata": {},
   "source": []
  },
  {
   "cell_type": "markdown",
   "metadata": {},
   "source": [
    "# Data Analysis Case Study - Apply Problem Solving Strategy\n",
    "\n",
    "**Problem**\n",
    "Assume you are in the role of an Analyst in the product development of the company. To help increase the volume of orders and customers purchasing movie tickets online, you need to analyze data of customers' booking history over the past years. From there, provide informative insights about customer behavior and corresponding recommendations."
   ]
  },
  {
   "cell_type": "markdown",
   "metadata": {},
   "source": [
    "This is a capstone project I completed for self-learning Python for Data Analysis, utilizing industry-standard libraries: Pandas and Matplotlib.\n",
    "There are many frameworks for data analysis. Framework provides a structured and systemetic approach for managing and analyzing data tasks/projects to ensure consistency, efficiency, and high quality work. The framework I used is: \n",
    "\n",
    "Problem Definition => Data Collection => Data Transformation => Data Exploration => Sharing Insights\n",
    "\n",
    "## I. Define The Problem \n",
    "### Why?\n",
    "- The objective of this task is to analyze user behavior in purchasing movie tickets over the past four years using data.\n",
    "- By gaining this understanding, we can develop insights to implement effective strategies to increase sales and the number of buyers in the coming years.\n",
    "\n",
    "### Who?\n",
    "- Internal: Departments and/or staffs involves in ticket purchasing process? Sales, customer service\n",
    "- External: Who is our customers?\n",
    "-  Location: which city/province/area\n",
    "-  Profile: new customer, old customer, activated customer,..\n",
    "-  Demographic: gender (male/femail), education, marriage or not,..\n",
    "\n",
    "### What?\n",
    "- Analyze ticket purchasing behavior using website and mobile app\n",
    "\n",
    "### Which\n",
    "Which element or factor  does customers use duing online ticket purchasing process?\n",
    "-- Product: tickets\n",
    "-- Device: phone, website\n",
    "-- Payment options: cash, card, bank transfer, e-wallet \n",
    "-- Price\n",
    "-- Promotion / Discount\n",
    "\n",
    "### When\n",
    "When do customers often buy tickets?\n",
    "- Year, month, day, hour\n",
    "- Holiday, event, new movie\n",
    "\n",
    "### How\n",
    "How did customers use the product?\n",
    "- Customer experience: Good, bad\n",
    "++ Feedback\n",
    "++ %Successful ticket purchases\n",
    "++ %Customer retention\n",
    "- Purchasing process\n",
    "++ Total time completing ticket purchase\n",
    "++ Time taken for each step in the process. Any bottle-necks? Any step that customer faced frustration?"
   ]
  },
  {
   "cell_type": "markdown",
   "metadata": {},
   "source": [
    "# II. Disaggregate The Problem\n",
    "Based on the problem definition, we can create a Logic Tree"
   ]
  },
  {
   "cell_type": "markdown",
   "metadata": {},
   "source": [
    " "
   ]
  },
  {
   "cell_type": "markdown",
   "metadata": {},
   "source": [
    "## 1. Load Data"
   ]
  },
  {
   "cell_type": "code",
   "execution_count": null,
   "metadata": {},
   "outputs": [],
   "source": [
    "import pandas as pd\n",
    "import numpy as np\n",
    "import matplotlib.pyplot as plt"
   ]
  },
  {
   "cell_type": "code",
   "execution_count": 42,
   "metadata": {},
   "outputs": [],
   "source": [
    "df_customer = pd.read_csv(\"D:/Git DucD Data/SQLplaygroundDataAnalysis/Capstone project/Dataset/customer.csv\")\n",
    "df_campaign = pd.read_csv(\"D:/Git DucD Data/SQLplaygroundDataAnalysis/Capstone project/Dataset/campaign.csv\")\n",
    "df_device = pd.read_csv(\"D:/Git DucD Data/SQLplaygroundDataAnalysis/Capstone project/Dataset/device_detail.csv\")\n",
    "df_sales = pd.read_csv(\"D:/Git DucD Data/SQLplaygroundDataAnalysis/Capstone project/Dataset/sales.csv\")\n",
    "df_status = pd.read_csv(\"D:/Git DucD Data/SQLplaygroundDataAnalysis/Capstone project/Dataset/status_detail.csv\")\n",
    "df_ticket = pd.read_csv(\"D:/Git DucD Data/SQLplaygroundDataAnalysis/Capstone project/Dataset/ticket_history.csv\")"
   ]
  },
  {
   "cell_type": "markdown",
   "metadata": {},
   "source": [
    "## 2. Clean Data"
   ]
  },
  {
   "cell_type": "markdown",
   "metadata": {},
   "source": [
    "2.1 Data type, NULL value, duplicate values"
   ]
  },
  {
   "cell_type": "code",
   "execution_count": 13,
   "metadata": {},
   "outputs": [
    {
     "name": "stdout",
     "output_type": "stream",
     "text": [
      "<class 'pandas.core.frame.DataFrame'>\n",
      "RangeIndex: 52054 entries, 0 to 52053\n",
      "Data columns (total 3 columns):\n",
      " #   Column      Non-Null Count  Dtype \n",
      "---  ------      --------------  ----- \n",
      " 0   user_id     52054 non-null  int64 \n",
      " 1   usergender  52054 non-null  int64 \n",
      " 2   dob         52054 non-null  object\n",
      "dtypes: int64(2), object(1)\n",
      "memory usage: 1.2+ MB\n"
     ]
    }
   ],
   "source": [
    "df_customer.info()"
   ]
  },
  {
   "cell_type": "code",
   "execution_count": 43,
   "metadata": {},
   "outputs": [],
   "source": [
    "#CUSTOMER table\n",
    "#convert DOB type to datetime from object type\n",
    "import datetime\n",
    "df_customer['dob'] = pd.to_datetime(df_customer['dob'])"
   ]
  },
  {
   "cell_type": "code",
   "execution_count": 17,
   "metadata": {},
   "outputs": [
    {
     "data": {
      "text/plain": [
       "user_id       52054\n",
       "usergender        3\n",
       "dob            9115\n",
       "dtype: int64"
      ]
     },
     "execution_count": 17,
     "metadata": {},
     "output_type": "execute_result"
    }
   ],
   "source": [
    "#to check duplicate, we unique count records and compare with the total record number\n",
    "df_customer.nunique()"
   ]
  },
  {
   "cell_type": "code",
   "execution_count": 45,
   "metadata": {},
   "outputs": [
    {
     "name": "stdout",
     "output_type": "stream",
     "text": [
      "<class 'pandas.core.frame.DataFrame'>\n",
      "RangeIndex: 105 entries, 0 to 104\n",
      "Data columns (total 2 columns):\n",
      " #   Column         Non-Null Count  Dtype \n",
      "---  ------         --------------  ----- \n",
      " 0   campaign_code  105 non-null    int64 \n",
      " 1   campaign_type  105 non-null    object\n",
      "dtypes: int64(1), object(1)\n",
      "memory usage: 1.8+ KB\n"
     ]
    },
    {
     "data": {
      "text/plain": [
       "campaign_code    105\n",
       "campaign_type      3\n",
       "dtype: int64"
      ]
     },
     "execution_count": 45,
     "metadata": {},
     "output_type": "execute_result"
    }
   ],
   "source": [
    "#CAMPAIGN table\n",
    "df_campaign.info()\n",
    "df_campaign.nunique()\n"
   ]
  },
  {
   "cell_type": "code",
   "execution_count": 53,
   "metadata": {},
   "outputs": [
    {
     "name": "stdout",
     "output_type": "stream",
     "text": [
      "<class 'pandas.core.frame.DataFrame'>\n",
      "RangeIndex: 55639 entries, 0 to 55638\n",
      "Data columns (total 3 columns):\n",
      " #   Column     Non-Null Count  Dtype \n",
      "---  ------     --------------  ----- \n",
      " 0   device_id  55637 non-null  object\n",
      " 1   model      55519 non-null  object\n",
      " 2   platform   55639 non-null  object\n",
      "dtypes: object(3)\n",
      "memory usage: 1.3+ MB\n"
     ]
    }
   ],
   "source": [
    "#DEVICE table\n",
    "df_device.info()\n",
    "\n",
    "#from the result, we can see some null numbers in model 55519 comparing to other columns\n",
    "#before making decision on how to handle we need to check %null value on total"
   ]
  },
  {
   "cell_type": "code",
   "execution_count": 63,
   "metadata": {},
   "outputs": [],
   "source": [
    "def calc_null_rate(df):\n",
    "    \"\"\"check NULL rate of each column\n",
    "    \"\"\"\n",
    "    newdf = df.isnull().sum().to_frame('null count')\n",
    "    newdf [['null rate']] = newdf[['null count']] / len(df)\n",
    "    return newdf.sort_values(by=['null rate'], ascending=False)\n",
    "\n"
   ]
  },
  {
   "cell_type": "code",
   "execution_count": 64,
   "metadata": {},
   "outputs": [
    {
     "data": {
      "text/html": [
       "<div>\n",
       "<style scoped>\n",
       "    .dataframe tbody tr th:only-of-type {\n",
       "        vertical-align: middle;\n",
       "    }\n",
       "\n",
       "    .dataframe tbody tr th {\n",
       "        vertical-align: top;\n",
       "    }\n",
       "\n",
       "    .dataframe thead th {\n",
       "        text-align: right;\n",
       "    }\n",
       "</style>\n",
       "<table border=\"1\" class=\"dataframe\">\n",
       "  <thead>\n",
       "    <tr style=\"text-align: right;\">\n",
       "      <th></th>\n",
       "      <th>null count</th>\n",
       "      <th>null rate</th>\n",
       "    </tr>\n",
       "  </thead>\n",
       "  <tbody>\n",
       "    <tr>\n",
       "      <th>model</th>\n",
       "      <td>120</td>\n",
       "      <td>0.002157</td>\n",
       "    </tr>\n",
       "    <tr>\n",
       "      <th>device_id</th>\n",
       "      <td>2</td>\n",
       "      <td>0.000036</td>\n",
       "    </tr>\n",
       "    <tr>\n",
       "      <th>platform</th>\n",
       "      <td>0</td>\n",
       "      <td>0.000000</td>\n",
       "    </tr>\n",
       "  </tbody>\n",
       "</table>\n",
       "</div>"
      ],
      "text/plain": [
       "           null count  null rate\n",
       "model             120   0.002157\n",
       "device_id           2   0.000036\n",
       "platform            0   0.000000"
      ]
     },
     "execution_count": 64,
     "metadata": {},
     "output_type": "execute_result"
    }
   ],
   "source": [
    "calc_null_rate(df_device)"
   ]
  }
 ],
 "metadata": {
  "kernelspec": {
   "display_name": "base",
   "language": "python",
   "name": "python3"
  },
  "language_info": {
   "codemirror_mode": {
    "name": "ipython",
    "version": 3
   },
   "file_extension": ".py",
   "mimetype": "text/x-python",
   "name": "python",
   "nbconvert_exporter": "python",
   "pygments_lexer": "ipython3",
   "version": "3.12.5"
  }
 },
 "nbformat": 4,
 "nbformat_minor": 2
}
