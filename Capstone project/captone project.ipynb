{
 "cells": [
  {
   "cell_type": "markdown",
   "metadata": {},
   "source": []
  },
  {
   "cell_type": "markdown",
   "metadata": {},
   "source": [
    "# Data Analysis Case Study - Apply Problem Solving Strategy\n",
    "\n",
    "**Problem**\n",
    "Assume you are in the role of an Analyst in the product development of the company. To help increase the volume of orders and customers purchasing movie tickets online, you need to analyze data of customers' booking history over the past years. From there, provide informative insights about customer behavior and corresponding recommendations."
   ]
  },
  {
   "cell_type": "markdown",
   "metadata": {},
   "source": [
    "This is a capstone project I completed for self-learning Python for Data Analysis, utilizing industry-standard libraries: Pandas and Matplotlib.\n",
    "There are many frameworks for data analysis. Framework provides a structured and systemetic approach for managing and analyzing data tasks/projects to ensure consistency, efficiency, and high quality work. The framework I used is: \n",
    "\n",
    "Problem Definition => Data Collection => Data Transformation => Data Exploration => Sharing Insights\n",
    "\n",
    "## I. Define The Problem \n",
    "### Why?\n",
    "- The objective of this task is to analyze user behavior in purchasing movie tickets over the past four years using data.\n",
    "- By gaining this understanding, we can develop insights to implement effective strategies to increase sales and the number of buyers in the coming years.\n",
    "\n",
    "### Who?\n",
    "- Internal: Departments and/or staffs involves in ticket purchasing process? Sales, customer service\n",
    "- External: Who is our customers?\n",
    "-  Location: which city/province/area\n",
    "-  Profile: new customer, old customer, activated customer,..\n",
    "-  Demographic: gender (male/femail), education, marriage or not,..\n",
    "\n",
    "### What?\n",
    "- Analyze ticket purchasing behavior using website and mobile app\n",
    "\n",
    "### Which\n",
    "Which element or factor  does customers use duing online ticket purchasing process?\n",
    "-- Product: tickets\n",
    "-- Device: phone, website\n",
    "-- Payment options: cash, card, bank transfer, e-wallet \n",
    "-- Price\n",
    "-- Promotion / Discount\n",
    "\n",
    "### When\n",
    "When do customers often buy tickets?\n",
    "- Year, month, day, hour\n",
    "- Holiday, event, new movie\n",
    "\n",
    "### How\n",
    "How did customers use the product?\n",
    "- Customer experience: Good, bad\n",
    "++ Feedback\n",
    "++ %Successful ticket purchases\n",
    "++ %Customer retention\n",
    "- Purchasing process\n",
    "++ Total time completing ticket purchase\n",
    "++ Time taken for each step in the process. Any bottle-necks? Any step that customer faced frustration?"
   ]
  },
  {
   "cell_type": "markdown",
   "metadata": {},
   "source": [
    "# II. Disaggregate The Problem\n",
    "Based on the problem definition, we can create a Logic Tree"
   ]
  },
  {
   "cell_type": "markdown",
   "metadata": {},
   "source": [
    " "
   ]
  },
  {
   "cell_type": "markdown",
   "metadata": {},
   "source": [
    "## 1. Load Data"
   ]
  },
  {
   "cell_type": "code",
   "execution_count": null,
   "metadata": {},
   "outputs": [],
   "source": [
    "import pandas as pd\n",
    "import numpy as np\n",
    "import matplotlib.pyplot as plt"
   ]
  },
  {
   "cell_type": "code",
   "execution_count": null,
   "metadata": {},
   "outputs": [],
   "source": [
    "df_customer = pd.read_csv(\"D:/Git DucD Data/SQLplaygroundDataAnalysis/Capstone project/Dataset/customer.csv\")\n",
    "df_campaign = pd.read_csv(\"D:/Git DucD Data/SQLplaygroundDataAnalysis/Capstone project/Dataset/campaign.csv\")\n",
    "df_device = pd.read_csv(\"D:/Git DucD Data/SQLplaygroundDataAnalysis/Capstone project/Dataset/device_detail.csv\")\n",
    "df_sales = pd.read_csv(\"D:/Git DucD Data/SQLplaygroundDataAnalysis/Capstone project/Dataset/sales.csv\")\n",
    "df_status = pd.read_csv(\"D:/Git DucD Data/SQLplaygroundDataAnalysis/Capstone project/Dataset/status_detail.csv\")\n",
    "df_ticket = pd.read_csv(\"D:/Git DucD Data/SQLplaygroundDataAnalysis/Capstone project/Dataset/ticket_history.csv\")"
   ]
  },
  {
   "cell_type": "markdown",
   "metadata": {},
   "source": [
    "## 2. Clean Data"
   ]
  },
  {
   "cell_type": "markdown",
   "metadata": {},
   "source": [
    "2.1 Data type, NULL value, duplicate values"
   ]
  },
  {
   "cell_type": "code",
   "execution_count": 13,
   "metadata": {},
   "outputs": [
    {
     "name": "stdout",
     "output_type": "stream",
     "text": [
      "<class 'pandas.core.frame.DataFrame'>\n",
      "RangeIndex: 52054 entries, 0 to 52053\n",
      "Data columns (total 3 columns):\n",
      " #   Column      Non-Null Count  Dtype \n",
      "---  ------      --------------  ----- \n",
      " 0   user_id     52054 non-null  int64 \n",
      " 1   usergender  52054 non-null  int64 \n",
      " 2   dob         52054 non-null  object\n",
      "dtypes: int64(2), object(1)\n",
      "memory usage: 1.2+ MB\n"
     ]
    }
   ],
   "source": [
    "df_customer.info()"
   ]
  }
 ],
 "metadata": {
  "kernelspec": {
   "display_name": "base",
   "language": "python",
   "name": "python3"
  },
  "language_info": {
   "codemirror_mode": {
    "name": "ipython",
    "version": 3
   },
   "file_extension": ".py",
   "mimetype": "text/x-python",
   "name": "python",
   "nbconvert_exporter": "python",
   "pygments_lexer": "ipython3",
   "version": "3.12.5"
  }
 },
 "nbformat": 4,
 "nbformat_minor": 2
}
